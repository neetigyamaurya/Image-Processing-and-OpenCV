{
 "cells": [
  {
   "cell_type": "code",
   "execution_count": 1,
   "id": "initial_id",
   "metadata": {
    "collapsed": true,
    "ExecuteTime": {
     "end_time": "2023-09-15T04:16:37.885728738Z",
     "start_time": "2023-09-15T04:16:37.650420896Z"
    }
   },
   "outputs": [],
   "source": [
    "import sys\n",
    "\n",
    "import cv2"
   ]
  },
  {
   "cell_type": "code",
   "execution_count": 2,
   "outputs": [],
   "source": [
    "img = cv2.imread(\"/home/neetigya-maurya/Pictures/COMPARE.jpg\",\n",
    "                 1)  # 1 for color image,0 for grayscale image,-1 for unchanged image\n",
    "#img.resize((500, 500), refcheck=False)"
   ],
   "metadata": {
    "collapsed": false,
    "ExecuteTime": {
     "end_time": "2023-09-15T04:16:40.032942083Z",
     "start_time": "2023-09-15T04:16:38.948421093Z"
    }
   },
   "id": "6ce4857a258cff0c"
  },
  {
   "cell_type": "code",
   "execution_count": 3,
   "outputs": [
    {
     "data": {
      "text/plain": "(4624, 6906, 3)"
     },
     "execution_count": 3,
     "metadata": {},
     "output_type": "execute_result"
    }
   ],
   "source": [
    "img.shape"
   ],
   "metadata": {
    "collapsed": false,
    "ExecuteTime": {
     "end_time": "2023-09-15T04:16:41.722397823Z",
     "start_time": "2023-09-15T04:16:41.708231540Z"
    }
   },
   "id": "a118634ea0eca93a"
  },
  {
   "cell_type": "code",
   "execution_count": 4,
   "outputs": [
    {
     "name": "stdout",
     "output_type": "stream",
     "text": [
      "[[[ 66 177 157]\n",
      "  [ 60 173 153]\n",
      "  [ 51 166 147]\n",
      "  ...\n",
      "  [ 47  98  84]\n",
      "  [ 53 104  90]\n",
      "  [ 49  99  87]]\n",
      "\n",
      " [[ 54 166 148]\n",
      "  [ 47 159 141]\n",
      "  [ 40 156 137]\n",
      "  ...\n",
      "  [ 47 100  86]\n",
      "  [ 55 104  88]\n",
      "  [ 58 108  98]]\n",
      "\n",
      " [[ 36 153 132]\n",
      "  [ 28 144 121]\n",
      "  [ 27 143 120]\n",
      "  ...\n",
      "  [ 50  98 100]\n",
      "  [ 59 106 104]\n",
      "  [ 55 106  98]]\n",
      "\n",
      " ...\n",
      "\n",
      " [[ 37 111  87]\n",
      "  [ 34 108  84]\n",
      "  [ 37 111  87]\n",
      "  ...\n",
      "  [ 31  16  30]\n",
      "  [ 30  17  33]\n",
      "  [ 27  19  26]]\n",
      "\n",
      " [[ 36 110  84]\n",
      "  [ 32 106  80]\n",
      "  [ 33 107  81]\n",
      "  ...\n",
      "  [ 29  17  29]\n",
      "  [ 29  17  29]\n",
      "  [ 26  14  32]]\n",
      "\n",
      " [[ 36 111  83]\n",
      "  [ 34 109  81]\n",
      "  [ 38 112  86]\n",
      "  ...\n",
      "  [ 27  18  28]\n",
      "  [ 26  16  28]\n",
      "  [ 29  18  28]]]\n"
     ]
    }
   ],
   "source": [
    "print(img)"
   ],
   "metadata": {
    "collapsed": false,
    "ExecuteTime": {
     "end_time": "2023-09-15T04:16:43.978220860Z",
     "start_time": "2023-09-15T04:16:43.966692367Z"
    }
   },
   "id": "5b6ce2966d054a67"
  },
  {
   "cell_type": "code",
   "execution_count": 5,
   "outputs": [
    {
     "name": "stderr",
     "output_type": "stream",
     "text": [
      "Warning: Ignoring XDG_SESSION_TYPE=wayland on Gnome. Use QT_QPA_PLATFORM=wayland to run on Wayland anyway.\n"
     ]
    }
   ],
   "source": [
    "cv2.imshow(\"Trial\", img)\n",
    "\n",
    "cv2.destroyAllWindows()"
   ],
   "metadata": {
    "collapsed": false,
    "ExecuteTime": {
     "end_time": "2023-09-15T04:16:49.554490281Z",
     "start_time": "2023-09-15T04:16:48.178011680Z"
    }
   },
   "id": "a8990ad494ff0a65"
  },
  {
   "cell_type": "code",
   "execution_count": null,
   "outputs": [],
   "source": [],
   "metadata": {
    "collapsed": false,
    "is_executing": true,
    "ExecuteTime": {
     "start_time": "2023-09-14T15:01:36.422905697Z"
    }
   },
   "id": "e390f5057b216aeb"
  },
  {
   "cell_type": "code",
   "execution_count": null,
   "outputs": [],
   "source": [
    "# Project Day-1"
   ],
   "metadata": {
    "collapsed": false,
    "is_executing": true
   },
   "id": "2a46f8f194ccd91f"
  },
  {
   "cell_type": "code",
   "execution_count": 11,
   "outputs": [],
   "source": [
    "import cv2"
   ],
   "metadata": {
    "collapsed": false,
    "ExecuteTime": {
     "end_time": "2023-09-15T04:30:45.915998983Z",
     "start_time": "2023-09-15T04:30:45.905936974Z"
    }
   },
   "id": "854d2c297cd63d47"
  },
  {
   "cell_type": "code",
   "execution_count": 7,
   "outputs": [],
   "source": [
    "get_path = \"/home/neetigya-maurya/Pictures/COMPARE.jpg\""
   ],
   "metadata": {
    "collapsed": false,
    "ExecuteTime": {
     "end_time": "2023-09-15T04:17:04.306802393Z",
     "start_time": "2023-09-15T04:17:04.290464790Z"
    }
   },
   "id": "6c7a33fee34da759"
  },
  {
   "cell_type": "code",
   "execution_count": 8,
   "outputs": [],
   "source": [
    "img = cv2.imread(get_path, 0)  # Image has to be converted into Grayscale\n",
    "img.resize((1080, 1920), )"
   ],
   "metadata": {
    "collapsed": false,
    "ExecuteTime": {
     "end_time": "2023-09-15T04:17:06.650790252Z",
     "start_time": "2023-09-15T04:17:05.805717448Z"
    }
   },
   "id": "7292315ccf05180a"
  },
  {
   "cell_type": "code",
   "execution_count": 10,
   "outputs": [
    {
     "data": {
      "text/plain": "(1080, 1920)"
     },
     "execution_count": 10,
     "metadata": {},
     "output_type": "execute_result"
    }
   ],
   "source": [
    "img.shape"
   ],
   "metadata": {
    "collapsed": false,
    "ExecuteTime": {
     "end_time": "2023-09-15T04:17:09.209606902Z",
     "start_time": "2023-09-15T04:17:09.196250360Z"
    }
   },
   "id": "2bb03370be912ef5"
  },
  {
   "cell_type": "code",
   "execution_count": 12,
   "outputs": [],
   "source": [
    "img = cv2.flip(img, 1)"
   ],
   "metadata": {
    "collapsed": false,
    "ExecuteTime": {
     "end_time": "2023-09-15T04:17:37.346219404Z",
     "start_time": "2023-09-15T04:17:37.335992437Z"
    }
   },
   "id": "78802fbd97eace4f"
  },
  {
   "cell_type": "code",
   "execution_count": 13,
   "outputs": [],
   "source": [
    "cv2.imshow(\"Trial\", img)\n",
    "cv2.waitKey(3)\n",
    "cv2.destroyAllWindows()"
   ],
   "metadata": {
    "collapsed": false,
    "ExecuteTime": {
     "end_time": "2023-09-15T04:17:40.919847742Z",
     "start_time": "2023-09-15T04:17:40.836650718Z"
    }
   },
   "id": "8a13f893c0e6dcd3"
  },
  {
   "cell_type": "code",
   "execution_count": 14,
   "outputs": [],
   "source": [
    "k = cv2.waitKey(0)\n",
    "if k == ord('s'):\n",
    "    cv2.imwrite(\"/home/neetigya-maurya/Pictures/COMPARE.jpg\", img)\n",
    "else:\n",
    "    cv2.destroyAllWindows()"
   ],
   "metadata": {
    "collapsed": false,
    "ExecuteTime": {
     "end_time": "2023-09-15T04:17:51.117641099Z",
     "start_time": "2023-09-15T04:17:51.099982160Z"
    }
   },
   "id": "b7f47fc19283d5e"
  },
  {
   "cell_type": "code",
   "execution_count": 12,
   "outputs": [],
   "source": [
    "video = cv2.VideoCapture(\"/home/neetigya-maurya/Videos/Screencasts/1.webm\")"
   ],
   "metadata": {
    "collapsed": false,
    "ExecuteTime": {
     "end_time": "2023-09-15T04:30:49.690626542Z",
     "start_time": "2023-09-15T04:30:49.672319306Z"
    }
   },
   "id": "c48141d924a4514a"
  },
  {
   "cell_type": "code",
   "execution_count": 13,
   "outputs": [
    {
     "name": "stdout",
     "output_type": "stream",
     "text": [
      "< cv2.VideoCapture 0x7fe8b4563790>\n"
     ]
    },
    {
     "data": {
      "text/plain": "2"
     },
     "execution_count": 13,
     "metadata": {},
     "output_type": "execute_result"
    }
   ],
   "source": [
    "print(video)\n",
    "id(video)\n",
    "hex(id(video))\n",
    "sys.getsizeof(video) / 1024  #in KB\n",
    "sys.getrefcount(video)"
   ],
   "metadata": {
    "collapsed": false,
    "ExecuteTime": {
     "end_time": "2023-09-15T04:30:52.257668370Z",
     "start_time": "2023-09-15T04:30:52.231088650Z"
    }
   },
   "id": "11ea6fc6d4808ab0"
  },
  {
   "cell_type": "code",
   "execution_count": 14,
   "outputs": [
    {
     "ename": "error",
     "evalue": "OpenCV(4.8.0) /io/opencv/modules/highgui/src/window.cpp:971: error: (-215:Assertion failed) size.width>0 && size.height>0 in function 'imshow'\n",
     "output_type": "error",
     "traceback": [
      "\u001B[0;31m---------------------------------------------------------------------------\u001B[0m",
      "\u001B[0;31merror\u001B[0m                                     Traceback (most recent call last)",
      "Cell \u001B[0;32mIn[14], line 3\u001B[0m\n\u001B[1;32m      1\u001B[0m \u001B[38;5;28;01mwhile\u001B[39;00m \u001B[38;5;28;01mTrue\u001B[39;00m:\n\u001B[1;32m      2\u001B[0m     ret, frames \u001B[38;5;241m=\u001B[39m video\u001B[38;5;241m.\u001B[39mread()\n\u001B[0;32m----> 3\u001B[0m     \u001B[43mcv2\u001B[49m\u001B[38;5;241;43m.\u001B[39;49m\u001B[43mimshow\u001B[49m\u001B[43m(\u001B[49m\u001B[38;5;124;43m\"\u001B[39;49m\u001B[38;5;124;43mVideo\u001B[39;49m\u001B[38;5;124;43m\"\u001B[39;49m\u001B[43m,\u001B[49m\u001B[43m \u001B[49m\u001B[43mframes\u001B[49m\u001B[43m)\u001B[49m\n\u001B[1;32m      4\u001B[0m     k \u001B[38;5;241m=\u001B[39m cv2\u001B[38;5;241m.\u001B[39mwaitKey(\u001B[38;5;241m25\u001B[39m)\n\u001B[1;32m      5\u001B[0m     \u001B[38;5;28;01mif\u001B[39;00m k \u001B[38;5;241m==\u001B[39m \u001B[38;5;28mord\u001B[39m(\u001B[38;5;124m\"\u001B[39m\u001B[38;5;124mq\u001B[39m\u001B[38;5;124m\"\u001B[39m) \u001B[38;5;241m&\u001B[39m \u001B[38;5;241m0xFF\u001B[39m:\n",
      "\u001B[0;31merror\u001B[0m: OpenCV(4.8.0) /io/opencv/modules/highgui/src/window.cpp:971: error: (-215:Assertion failed) size.width>0 && size.height>0 in function 'imshow'\n"
     ]
    }
   ],
   "source": [
    "while True:\n",
    "    ret, frames = video.read()\n",
    "    cv2.imshow(\"Video\", frames)\n",
    "    k = cv2.waitKey(25)\n",
    "    if k == ord(\"q\") & 0xFF:\n",
    "        break\n",
    "video.release()\n",
    "cv2.destroyAllWindows()"
   ],
   "metadata": {
    "collapsed": false,
    "ExecuteTime": {
     "end_time": "2023-09-15T04:30:59.278184537Z",
     "start_time": "2023-09-15T04:30:55.627886521Z"
    }
   },
   "id": "92a8b9abf1228fc4"
  },
  {
   "cell_type": "code",
   "execution_count": null,
   "outputs": [],
   "source": [],
   "metadata": {
    "collapsed": false
   },
   "id": "30e4234df3fb4cb5"
  }
 ],
 "metadata": {
  "kernelspec": {
   "display_name": "Python 3",
   "language": "python",
   "name": "python3"
  },
  "language_info": {
   "codemirror_mode": {
    "name": "ipython",
    "version": 2
   },
   "file_extension": ".py",
   "mimetype": "text/x-python",
   "name": "python",
   "nbconvert_exporter": "python",
   "pygments_lexer": "ipython2",
   "version": "2.7.6"
  }
 },
 "nbformat": 4,
 "nbformat_minor": 5
}
